{
  "cells": [
    {
      "cell_type": "code",
      "execution_count": 2,
      "metadata": {},
      "outputs": [],
      "source": [
        "#import thinkplot\n",
        "#import thinkstats2\n",
        "import pandas as pd\n",
        "import numpy as np\n",
        "import math\n",
        "import scipy.stats as ss\n",
        "import matplotlib.pyplot as plt\n",
        "import thinkplot \n",
        "import thinkstats2\n",
        "from sklearn.metrics import mean_squared_error\n",
        "from sklearn.linear_model import LinearRegression\n",
        "from sklearn.model_selection import train_test_split\n",
        "from sklearn.preprocessing import MinMaxScaler\n",
        "from sklearn.preprocessing import PolynomialFeatures\n",
        "from sklearn.pipeline import make_pipeline\n",
        "\n",
        "##Seaborn for fancy plots. \n",
        "import matplotlib.pyplot as plt\n",
        "import seaborn as sns\n",
        "plt.rcParams[\"figure.figsize\"] = (15,5)"
      ]
    },
    {
      "cell_type": "code",
      "execution_count": 4,
      "metadata": {},
      "outputs": [
        {
          "data": {
            "text/html": [
              "<div>\n",
              "<style scoped>\n",
              "    .dataframe tbody tr th:only-of-type {\n",
              "        vertical-align: middle;\n",
              "    }\n",
              "\n",
              "    .dataframe tbody tr th {\n",
              "        vertical-align: top;\n",
              "    }\n",
              "\n",
              "    .dataframe thead th {\n",
              "        text-align: right;\n",
              "    }\n",
              "</style>\n",
              "<table border=\"1\" class=\"dataframe\">\n",
              "  <thead>\n",
              "    <tr style=\"text-align: right;\">\n",
              "      <th></th>\n",
              "      <th>School Name</th>\n",
              "      <th>Region</th>\n",
              "      <th>Starting Median Salary</th>\n",
              "      <th>Mid-Career Median Salary</th>\n",
              "      <th>Mid-Career 10th Percentile Salary</th>\n",
              "      <th>Mid-Career 25th Percentile Salary</th>\n",
              "      <th>Mid-Career 75th Percentile Salary</th>\n",
              "      <th>Mid-Career 90th Percentile Salary</th>\n",
              "    </tr>\n",
              "  </thead>\n",
              "  <tbody>\n",
              "    <tr>\n",
              "      <th>0</th>\n",
              "      <td>Stanford University</td>\n",
              "      <td>California</td>\n",
              "      <td>$70,400.00</td>\n",
              "      <td>$129,000.00</td>\n",
              "      <td>$68,400.00</td>\n",
              "      <td>$93,100.00</td>\n",
              "      <td>$184,000.00</td>\n",
              "      <td>$257,000.00</td>\n",
              "    </tr>\n",
              "    <tr>\n",
              "      <th>3</th>\n",
              "      <td>University of California, Berkeley</td>\n",
              "      <td>California</td>\n",
              "      <td>$59,900.00</td>\n",
              "      <td>$112,000.00</td>\n",
              "      <td>$59,500.00</td>\n",
              "      <td>$81,000.00</td>\n",
              "      <td>$149,000.00</td>\n",
              "      <td>$201,000.00</td>\n",
              "    </tr>\n",
              "    <tr>\n",
              "      <th>5</th>\n",
              "      <td>Cal Poly San Luis Obispo</td>\n",
              "      <td>California</td>\n",
              "      <td>$57,200.00</td>\n",
              "      <td>$101,000.00</td>\n",
              "      <td>$55,000.00</td>\n",
              "      <td>$74,700.00</td>\n",
              "      <td>$133,000.00</td>\n",
              "      <td>$178,000.00</td>\n",
              "    </tr>\n",
              "    <tr>\n",
              "      <th>6</th>\n",
              "      <td>University of California at Los Angeles (UCLA)</td>\n",
              "      <td>California</td>\n",
              "      <td>$52,600.00</td>\n",
              "      <td>$101,000.00</td>\n",
              "      <td>$51,300.00</td>\n",
              "      <td>$72,500.00</td>\n",
              "      <td>$139,000.00</td>\n",
              "      <td>$193,000.00</td>\n",
              "    </tr>\n",
              "    <tr>\n",
              "      <th>7</th>\n",
              "      <td>University of California, San Diego (UCSD)</td>\n",
              "      <td>California</td>\n",
              "      <td>$51,100.00</td>\n",
              "      <td>$101,000.00</td>\n",
              "      <td>$51,700.00</td>\n",
              "      <td>$75,400.00</td>\n",
              "      <td>$131,000.00</td>\n",
              "      <td>$177,000.00</td>\n",
              "    </tr>\n",
              "    <tr>\n",
              "      <th>...</th>\n",
              "      <td>...</td>\n",
              "      <td>...</td>\n",
              "      <td>...</td>\n",
              "      <td>...</td>\n",
              "      <td>...</td>\n",
              "      <td>...</td>\n",
              "      <td>...</td>\n",
              "      <td>...</td>\n",
              "    </tr>\n",
              "    <tr>\n",
              "      <th>315</th>\n",
              "      <td>State University of New York (SUNY) at Potsdam</td>\n",
              "      <td>Northeastern</td>\n",
              "      <td>$38,000.00</td>\n",
              "      <td>$70,300.00</td>\n",
              "      <td>$35,100.00</td>\n",
              "      <td>$51,200.00</td>\n",
              "      <td>$100,000.00</td>\n",
              "      <td>$179,000.00</td>\n",
              "    </tr>\n",
              "    <tr>\n",
              "      <th>316</th>\n",
              "      <td>Niagara University</td>\n",
              "      <td>Northeastern</td>\n",
              "      <td>$36,900.00</td>\n",
              "      <td>$69,700.00</td>\n",
              "      <td>$44,000.00</td>\n",
              "      <td>$57,000.00</td>\n",
              "      <td>$92,000.00</td>\n",
              "      <td>$128,000.00</td>\n",
              "    </tr>\n",
              "    <tr>\n",
              "      <th>317</th>\n",
              "      <td>State University of New York (SUNY) at Fredonia</td>\n",
              "      <td>Northeastern</td>\n",
              "      <td>$37,800.00</td>\n",
              "      <td>$66,200.00</td>\n",
              "      <td>$32,800.00</td>\n",
              "      <td>$44,200.00</td>\n",
              "      <td>$93,300.00</td>\n",
              "      <td>$181,000.00</td>\n",
              "    </tr>\n",
              "    <tr>\n",
              "      <th>318</th>\n",
              "      <td>University of Southern Maine</td>\n",
              "      <td>Northeastern</td>\n",
              "      <td>$39,400.00</td>\n",
              "      <td>$63,600.00</td>\n",
              "      <td>$40,400.00</td>\n",
              "      <td>$47,900.00</td>\n",
              "      <td>$85,700.00</td>\n",
              "      <td>$117,000.00</td>\n",
              "    </tr>\n",
              "    <tr>\n",
              "      <th>319</th>\n",
              "      <td>Mercy College</td>\n",
              "      <td>Northeastern</td>\n",
              "      <td>$43,700.00</td>\n",
              "      <td>$62,600.00</td>\n",
              "      <td>$35,600.00</td>\n",
              "      <td>$47,300.00</td>\n",
              "      <td>$99,000.00</td>\n",
              "      <td>$134,000.00</td>\n",
              "    </tr>\n",
              "  </tbody>\n",
              "</table>\n",
              "<p>273 rows × 8 columns</p>\n",
              "</div>"
            ],
            "text/plain": [
              "                                         School Name        Region  \\\n",
              "0                                Stanford University    California   \n",
              "3                 University of California, Berkeley    California   \n",
              "5                           Cal Poly San Luis Obispo    California   \n",
              "6     University of California at Los Angeles (UCLA)    California   \n",
              "7         University of California, San Diego (UCSD)    California   \n",
              "..                                               ...           ...   \n",
              "315   State University of New York (SUNY) at Potsdam  Northeastern   \n",
              "316                               Niagara University  Northeastern   \n",
              "317  State University of New York (SUNY) at Fredonia  Northeastern   \n",
              "318                     University of Southern Maine  Northeastern   \n",
              "319                                    Mercy College  Northeastern   \n",
              "\n",
              "    Starting Median Salary Mid-Career Median Salary  \\\n",
              "0               $70,400.00              $129,000.00   \n",
              "3               $59,900.00              $112,000.00   \n",
              "5               $57,200.00              $101,000.00   \n",
              "6               $52,600.00              $101,000.00   \n",
              "7               $51,100.00              $101,000.00   \n",
              "..                     ...                      ...   \n",
              "315             $38,000.00               $70,300.00   \n",
              "316             $36,900.00               $69,700.00   \n",
              "317             $37,800.00               $66,200.00   \n",
              "318             $39,400.00               $63,600.00   \n",
              "319             $43,700.00               $62,600.00   \n",
              "\n",
              "    Mid-Career 10th Percentile Salary Mid-Career 25th Percentile Salary  \\\n",
              "0                          $68,400.00                        $93,100.00   \n",
              "3                          $59,500.00                        $81,000.00   \n",
              "5                          $55,000.00                        $74,700.00   \n",
              "6                          $51,300.00                        $72,500.00   \n",
              "7                          $51,700.00                        $75,400.00   \n",
              "..                                ...                               ...   \n",
              "315                        $35,100.00                        $51,200.00   \n",
              "316                        $44,000.00                        $57,000.00   \n",
              "317                        $32,800.00                        $44,200.00   \n",
              "318                        $40,400.00                        $47,900.00   \n",
              "319                        $35,600.00                        $47,300.00   \n",
              "\n",
              "    Mid-Career 75th Percentile Salary Mid-Career 90th Percentile Salary  \n",
              "0                         $184,000.00                       $257,000.00  \n",
              "3                         $149,000.00                       $201,000.00  \n",
              "5                         $133,000.00                       $178,000.00  \n",
              "6                         $139,000.00                       $193,000.00  \n",
              "7                         $131,000.00                       $177,000.00  \n",
              "..                                ...                               ...  \n",
              "315                       $100,000.00                       $179,000.00  \n",
              "316                        $92,000.00                       $128,000.00  \n",
              "317                        $93,300.00                       $181,000.00  \n",
              "318                        $85,700.00                       $117,000.00  \n",
              "319                        $99,000.00                       $134,000.00  \n",
              "\n",
              "[273 rows x 8 columns]"
            ]
          },
          "execution_count": 4,
          "metadata": {},
          "output_type": "execute_result"
        }
      ],
      "source": [
        "dfr=pd.read_csv(\"salaries-by-region.csv\")\n",
        "dfr.head(5)\n",
        "dfr.dropna()"
      ]
    },
    {
      "cell_type": "code",
      "execution_count": 5,
      "metadata": {},
      "outputs": [
        {
          "data": {
            "text/html": [
              "<div>\n",
              "<style scoped>\n",
              "    .dataframe tbody tr th:only-of-type {\n",
              "        vertical-align: middle;\n",
              "    }\n",
              "\n",
              "    .dataframe tbody tr th {\n",
              "        vertical-align: top;\n",
              "    }\n",
              "\n",
              "    .dataframe thead th {\n",
              "        text-align: right;\n",
              "    }\n",
              "</style>\n",
              "<table border=\"1\" class=\"dataframe\">\n",
              "  <thead>\n",
              "    <tr style=\"text-align: right;\">\n",
              "      <th></th>\n",
              "      <th>School Name</th>\n",
              "      <th>Region</th>\n",
              "      <th>Starting Median Salary</th>\n",
              "      <th>Mid-Career Median Salary</th>\n",
              "      <th>Mid-Career 10th Percentile Salary</th>\n",
              "      <th>Mid-Career 25th Percentile Salary</th>\n",
              "      <th>Mid-Career 75th Percentile Salary</th>\n",
              "      <th>Mid-Career 90th Percentile Salary</th>\n",
              "    </tr>\n",
              "  </thead>\n",
              "  <tbody>\n",
              "    <tr>\n",
              "      <th>count</th>\n",
              "      <td>320</td>\n",
              "      <td>320</td>\n",
              "      <td>320</td>\n",
              "      <td>320</td>\n",
              "      <td>273</td>\n",
              "      <td>320</td>\n",
              "      <td>320</td>\n",
              "      <td>273</td>\n",
              "    </tr>\n",
              "    <tr>\n",
              "      <th>unique</th>\n",
              "      <td>320</td>\n",
              "      <td>5</td>\n",
              "      <td>168</td>\n",
              "      <td>204</td>\n",
              "      <td>166</td>\n",
              "      <td>217</td>\n",
              "      <td>130</td>\n",
              "      <td>115</td>\n",
              "    </tr>\n",
              "    <tr>\n",
              "      <th>top</th>\n",
              "      <td>Stanford University</td>\n",
              "      <td>Northeastern</td>\n",
              "      <td>$42,600.00</td>\n",
              "      <td>$72,100.00</td>\n",
              "      <td>$43,300.00</td>\n",
              "      <td>$60,700.00</td>\n",
              "      <td>$117,000.00</td>\n",
              "      <td>$150,000.00</td>\n",
              "    </tr>\n",
              "    <tr>\n",
              "      <th>freq</th>\n",
              "      <td>1</td>\n",
              "      <td>100</td>\n",
              "      <td>6</td>\n",
              "      <td>5</td>\n",
              "      <td>5</td>\n",
              "      <td>5</td>\n",
              "      <td>10</td>\n",
              "      <td>10</td>\n",
              "    </tr>\n",
              "  </tbody>\n",
              "</table>\n",
              "</div>"
            ],
            "text/plain": [
              "                School Name        Region Starting Median Salary  \\\n",
              "count                   320           320                    320   \n",
              "unique                  320             5                    168   \n",
              "top     Stanford University  Northeastern             $42,600.00   \n",
              "freq                      1           100                      6   \n",
              "\n",
              "       Mid-Career Median Salary Mid-Career 10th Percentile Salary  \\\n",
              "count                       320                               273   \n",
              "unique                      204                               166   \n",
              "top                  $72,100.00                        $43,300.00   \n",
              "freq                          5                                 5   \n",
              "\n",
              "       Mid-Career 25th Percentile Salary Mid-Career 75th Percentile Salary  \\\n",
              "count                                320                               320   \n",
              "unique                               217                               130   \n",
              "top                           $60,700.00                       $117,000.00   \n",
              "freq                                   5                                10   \n",
              "\n",
              "       Mid-Career 90th Percentile Salary  \n",
              "count                                273  \n",
              "unique                               115  \n",
              "top                          $150,000.00  \n",
              "freq                                  10  "
            ]
          },
          "execution_count": 5,
          "metadata": {},
          "output_type": "execute_result"
        }
      ],
      "source": [
        "dfr.describe()"
      ]
    },
    {
      "cell_type": "code",
      "execution_count": 6,
      "metadata": {},
      "outputs": [
        {
          "data": {
            "image/png": "[encoded data removed]",
            "text/plain": [
              "<Figure size 1080x360 with 1 Axes>"
            ]
          },
          "metadata": {
            "needs_background": "light"
          },
          "output_type": "display_data"
        }
      ],
      "source": [
        "sns.countplot(x = \"Region\", data =dfr)\n",
        "plt.show()"
      ]
    },
    {
      "cell_type": "code",
      "execution_count": 7,
      "metadata": {},
      "outputs": [
        {
          "data": {
            "image/png": "[encoded data removed]",
            "text/plain": [
              "<Figure size 1080x360 with 1 Axes>"
            ]
          },
          "metadata": {
            "needs_background": "light"
          },
          "output_type": "display_data"
        }
      ],
      "source": [
        "#Distribution of Loan Amounts\n",
        "\n",
        "n, bins, patches = plt.hist(x = dfr[\"Region\"], bins =\"auto\", color = \"blue\", alpha = 0.7, rwidth = 0.95)\n",
        "plt.xlabel(\"Region count\")\n",
        "plt.show()"
      ]
    },
    {
      "cell_type": "code",
      "execution_count": 8,
      "metadata": {},
      "outputs": [
        {
          "data": {
            "text/html": [
              "<div>\n",
              "<style scoped>\n",
              "    .dataframe tbody tr th:only-of-type {\n",
              "        vertical-align: middle;\n",
              "    }\n",
              "\n",
              "    .dataframe tbody tr th {\n",
              "        vertical-align: top;\n",
              "    }\n",
              "\n",
              "    .dataframe thead th {\n",
              "        text-align: right;\n",
              "    }\n",
              "</style>\n",
              "<table border=\"1\" class=\"dataframe\">\n",
              "  <thead>\n",
              "    <tr style=\"text-align: right;\">\n",
              "      <th></th>\n",
              "      <th>School Name</th>\n",
              "      <th>Region</th>\n",
              "      <th>Starting Median Salary</th>\n",
              "      <th>Mid-Career Median Salary</th>\n",
              "      <th>Mid-Career 10th Percentile Salary</th>\n",
              "      <th>Mid-Career 25th Percentile Salary</th>\n",
              "      <th>Mid-Career 75th Percentile Salary</th>\n",
              "      <th>Mid-Career 90th Percentile Salary</th>\n",
              "    </tr>\n",
              "  </thead>\n",
              "  <tbody>\n",
              "    <tr>\n",
              "      <th>0</th>\n",
              "      <td>Stanford University</td>\n",
              "      <td>California</td>\n",
              "      <td>$70,400.00</td>\n",
              "      <td>$129,000.00</td>\n",
              "      <td>$68,400.00</td>\n",
              "      <td>$93,100.00</td>\n",
              "      <td>$184,000.00</td>\n",
              "      <td>$257,000.00</td>\n",
              "    </tr>\n",
              "    <tr>\n",
              "      <th>1</th>\n",
              "      <td>California Institute of Technology (CIT)</td>\n",
              "      <td>California</td>\n",
              "      <td>$75,500.00</td>\n",
              "      <td>$123,000.00</td>\n",
              "      <td>NaN</td>\n",
              "      <td>$104,000.00</td>\n",
              "      <td>$161,000.00</td>\n",
              "      <td>NaN</td>\n",
              "    </tr>\n",
              "  </tbody>\n",
              "</table>\n",
              "</div>"
            ],
            "text/plain": [
              "                                School Name      Region  \\\n",
              "0                       Stanford University  California   \n",
              "1  California Institute of Technology (CIT)  California   \n",
              "\n",
              "  Starting Median Salary Mid-Career Median Salary  \\\n",
              "0             $70,400.00              $129,000.00   \n",
              "1             $75,500.00              $123,000.00   \n",
              "\n",
              "  Mid-Career 10th Percentile Salary Mid-Career 25th Percentile Salary  \\\n",
              "0                        $68,400.00                        $93,100.00   \n",
              "1                               NaN                       $104,000.00   \n",
              "\n",
              "  Mid-Career 75th Percentile Salary Mid-Career 90th Percentile Salary  \n",
              "0                       $184,000.00                       $257,000.00  \n",
              "1                       $161,000.00                               NaN  "
            ]
          },
          "execution_count": 8,
          "metadata": {},
          "output_type": "execute_result"
        }
      ],
      "source": [
        "dfr.head(2)"
      ]
    },
    {
      "cell_type": "code",
      "execution_count": 13,
      "metadata": {},
      "outputs": [],
      "source": [
        "dfr1=dfr[\"Starting Median Salary\"]"
      ]
    },
    {
      "cell_type": "code",
      "execution_count": 19,
      "metadata": {},
      "outputs": [
        {
          "data": {
            "text/plain": [
              "<AxesSubplot:xlabel='Starting Median Salary', ylabel='Count'>"
            ]
          },
          "execution_count": 19,
          "metadata": {},
          "output_type": "execute_result"
        },
        {
          "data": {
            "image/png": "[encoded data removed]",
            "text/plain": [
              "<Figure size 1080x360 with 1 Axes>"
            ]
          },
          "metadata": {
            "needs_background": "light"
          },
          "output_type": "display_data"
        }
      ],
      "source": [
        "sns.histplot(dfr1)"
      ]
    },
    {
      "cell_type": "code",
      "execution_count": 21,
      "metadata": {},
      "outputs": [
        {
          "data": {
            "text/html": [
              "<div>\n",
              "<style scoped>\n",
              "    .dataframe tbody tr th:only-of-type {\n",
              "        vertical-align: middle;\n",
              "    }\n",
              "\n",
              "    .dataframe tbody tr th {\n",
              "        vertical-align: top;\n",
              "    }\n",
              "\n",
              "    .dataframe thead th {\n",
              "        text-align: right;\n",
              "    }\n",
              "</style>\n",
              "<table border=\"1\" class=\"dataframe\">\n",
              "  <thead>\n",
              "    <tr style=\"text-align: right;\">\n",
              "      <th></th>\n",
              "      <th>School Name</th>\n",
              "      <th>Region</th>\n",
              "      <th>Starting Median Salary</th>\n",
              "      <th>Mid-Career Median Salary</th>\n",
              "      <th>Mid-Career 10th Percentile Salary</th>\n",
              "      <th>Mid-Career 25th Percentile Salary</th>\n",
              "      <th>Mid-Career 75th Percentile Salary</th>\n",
              "      <th>Mid-Career 90th Percentile Salary</th>\n",
              "    </tr>\n",
              "  </thead>\n",
              "  <tbody>\n",
              "    <tr>\n",
              "      <th>0</th>\n",
              "      <td>Stanford University</td>\n",
              "      <td>California</td>\n",
              "      <td>$70,400.00</td>\n",
              "      <td>$129,000.00</td>\n",
              "      <td>$68,400.00</td>\n",
              "      <td>$93,100.00</td>\n",
              "      <td>$184,000.00</td>\n",
              "      <td>$257,000.00</td>\n",
              "    </tr>\n",
              "    <tr>\n",
              "      <th>1</th>\n",
              "      <td>California Institute of Technology (CIT)</td>\n",
              "      <td>California</td>\n",
              "      <td>$75,500.00</td>\n",
              "      <td>$123,000.00</td>\n",
              "      <td>NaN</td>\n",
              "      <td>$104,000.00</td>\n",
              "      <td>$161,000.00</td>\n",
              "      <td>NaN</td>\n",
              "    </tr>\n",
              "  </tbody>\n",
              "</table>\n",
              "</div>"
            ],
            "text/plain": [
              "                                School Name      Region  \\\n",
              "0                       Stanford University  California   \n",
              "1  California Institute of Technology (CIT)  California   \n",
              "\n",
              "  Starting Median Salary Mid-Career Median Salary  \\\n",
              "0             $70,400.00              $129,000.00   \n",
              "1             $75,500.00              $123,000.00   \n",
              "\n",
              "  Mid-Career 10th Percentile Salary Mid-Career 25th Percentile Salary  \\\n",
              "0                        $68,400.00                        $93,100.00   \n",
              "1                               NaN                       $104,000.00   \n",
              "\n",
              "  Mid-Career 75th Percentile Salary Mid-Career 90th Percentile Salary  \n",
              "0                       $184,000.00                       $257,000.00  \n",
              "1                       $161,000.00                               NaN  "
            ]
          },
          "execution_count": 21,
          "metadata": {},
          "output_type": "execute_result"
        }
      ],
      "source": [
        "dfr.head(2)"
      ]
    },
    {
      "cell_type": "code",
      "execution_count": 23,
      "metadata": {},
      "outputs": [
        {
          "data": {
            "image/png": "[encoded data removed]",
            "text/plain": [
              "<Figure size 1080x360 with 1 Axes>"
            ]
          },
          "metadata": {
            "needs_background": "light"
          },
          "output_type": "display_data"
        }
      ],
      "source": [
        "plt.scatter(dfr[\"Starting Median Salary\"], dfr[\"Mid-Career Median Salary\"], c = \"blue\", alpha = 0.5)\n",
        "plt.xlabel(\"starting\")\n",
        "plt.ylabel(\"Mid-career\")\n",
        "plt.show()"
      ]
    },
    {
      "cell_type": "code",
      "execution_count": 24,
      "metadata": {},
      "outputs": [
        {
          "name": "stdout",
          "output_type": "stream",
          "text": [
            "Observations: 320\n",
            "Variables: 8\n",
            "cat_cols: 1\n",
            "num_cols: 0\n",
            "cat_but_car: 7\n",
            "num_but_cat: 0\n"
          ]
        }
      ],
      "source": [
        "def grab_col_names(dataframe, cat_th=10, car_th=20):\n",
        "    cat_cols = [col for col in dataframe.columns if dataframe[col].dtypes == \"O\"]\n",
        "    num_but_cat = [col for col in dataframe.columns if dataframe[col].nunique() < cat_th and dataframe[col].dtypes != \"O\"]\n",
        "    cat_but_car = [col for col in dataframe.columns if dataframe[col].nunique() > car_th and dataframe[col].dtypes == \"O\"]\n",
        "\n",
        "    cat_cols = cat_cols + num_but_cat\n",
        "    cat_cols = [col for col in cat_cols if col not in cat_but_car]\n",
        "\n",
        "    # num_cols\n",
        "    num_cols = [col for col in dataframe.columns if dataframe[col].dtypes != \"O\"]\n",
        "    num_cols = [col for col in num_cols if col not in num_but_cat]\n",
        "\n",
        "    print(f\"Observations: {dataframe.shape[0]}\")\n",
        "    print(f\"Variables: {dataframe.shape[1]}\")\n",
        "    print(f'cat_cols: {len(cat_cols)}')\n",
        "    print(f'num_cols: {len(num_cols)}')\n",
        "    print(f'cat_but_car: {len(cat_but_car)}')\n",
        "    print(f'num_but_cat: {len(num_but_cat)}')\n",
        "    return cat_cols, num_cols, cat_but_car,num_but_cat\n",
        "cat_cols, num_cols, cat_but_car,num_but_cat =grab_col_names(dfr)"
      ]
    },
    {
      "cell_type": "code",
      "execution_count": 25,
      "metadata": {},
      "outputs": [
        {
          "data": {
            "text/plain": [
              "[]"
            ]
          },
          "execution_count": 25,
          "metadata": {},
          "output_type": "execute_result"
        }
      ],
      "source": [
        "num_but_cat\n",
        "#Its the dependent variable so we're gonna ignore that."
      ]
    },
    {
      "cell_type": "code",
      "execution_count": 26,
      "metadata": {},
      "outputs": [
        {
          "data": {
            "text/plain": [
              "['Region']"
            ]
          },
          "execution_count": 26,
          "metadata": {},
          "output_type": "execute_result"
        }
      ],
      "source": [
        "cat_cols"
      ]
    },
    {
      "cell_type": "code",
      "execution_count": 27,
      "metadata": {},
      "outputs": [
        {
          "data": {
            "text/plain": [
              "[]"
            ]
          },
          "execution_count": 27,
          "metadata": {},
          "output_type": "execute_result"
        }
      ],
      "source": [
        "num_cols"
      ]
    }
  ],
  "metadata": {
    "colab": {
      "provenance": []
    },
    "kernelspec": {
      "display_name": "base",
      "language": "python",
      "name": "python3"
    },
    "language_info": {
      "codemirror_mode": {
        "name": "ipython",
        "version": 3
      },
      "file_extension": ".py",
      "mimetype": "text/x-python",
      "name": "python",
      "nbconvert_exporter": "python",
      "pygments_lexer": "ipython3",
      "version": "3.9.12"
    },
    "vscode": {
      "interpreter": {
        "hash": "ac84c186c3977d3f3331649749bf53276a5c5befb029be0bc359ac378ed9e33b"
      }
    }
  },
  "nbformat": 4,
  "nbformat_minor": 0
}
