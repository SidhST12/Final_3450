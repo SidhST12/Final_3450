{
  "cells": [
    {
      "cell_type": "code",
      "execution_count": 2,
      "metadata": {},
      "outputs": [],
      "source": [
        "#import thinkplot\n",
        "#import thinkstats2\n",
        "import pandas as pd\n",
        "import numpy as np\n",
        "import math\n",
        "import scipy.stats as ss\n",
        "import matplotlib.pyplot as plt\n",
        "import thinkplot \n",
        "import thinkstats2\n",
        "from sklearn.metrics import mean_squared_error\n",
        "from sklearn.linear_model import LinearRegression\n",
        "from sklearn.model_selection import train_test_split\n",
        "from sklearn.preprocessing import MinMaxScaler\n",
        "from sklearn.preprocessing import PolynomialFeatures\n",
        "from sklearn.pipeline import make_pipeline\n",
        "\n",
        "##Seaborn for fancy plots. \n",
        "import matplotlib.pyplot as plt\n",
        "import seaborn as sns\n",
        "plt.rcParams[\"figure.figsize\"] = (15,5)"
      ]
    },
    {
      "cell_type": "code",
      "execution_count": 3,
      "metadata": {
        "colab": {
          "base_uri": "https://localhost:8080/"
        },
        "id": "MqJtgmw_Dcvr",
        "outputId": "2a1147bb-0ed8-4cd5-af7b-0e9c2f53c13d"
      },
      "outputs": [
        {
          "name": "stdout",
          "output_type": "stream",
          "text": [
            "Good Morning!\n"
          ]
        }
      ],
      "source": [
        "print(\"Good Morning!\")"
      ]
    },
    {
      "cell_type": "code",
      "execution_count": 4,
      "metadata": {},
      "outputs": [],
      "source": [
        "dfd = pd.read_csv(\"degrees-that-pay-back.csv\")\n"
      ]
    },
    {
      "cell_type": "code",
      "execution_count": 5,
      "metadata": {},
      "outputs": [],
      "source": [
        "df1=dfd[[\"Undergraduate Major\",\"Starting Median Salary\"]]"
      ]
    },
    {
      "cell_type": "code",
      "execution_count": 6,
      "metadata": {},
      "outputs": [
        {
          "data": {
            "text/html": [
              "<div>\n",
              "<style scoped>\n",
              "    .dataframe tbody tr th:only-of-type {\n",
              "        vertical-align: middle;\n",
              "    }\n",
              "\n",
              "    .dataframe tbody tr th {\n",
              "        vertical-align: top;\n",
              "    }\n",
              "\n",
              "    .dataframe thead th {\n",
              "        text-align: right;\n",
              "    }\n",
              "</style>\n",
              "<table border=\"1\" class=\"dataframe\">\n",
              "  <thead>\n",
              "    <tr style=\"text-align: right;\">\n",
              "      <th></th>\n",
              "      <th>School Name</th>\n",
              "      <th>Region</th>\n",
              "      <th>Starting Median Salary</th>\n",
              "      <th>Mid-Career Median Salary</th>\n",
              "      <th>Mid-Career 10th Percentile Salary</th>\n",
              "      <th>Mid-Career 25th Percentile Salary</th>\n",
              "      <th>Mid-Career 75th Percentile Salary</th>\n",
              "      <th>Mid-Career 90th Percentile Salary</th>\n",
              "    </tr>\n",
              "  </thead>\n",
              "  <tbody>\n",
              "    <tr>\n",
              "      <th>0</th>\n",
              "      <td>Stanford University</td>\n",
              "      <td>California</td>\n",
              "      <td>$70,400.00</td>\n",
              "      <td>$129,000.00</td>\n",
              "      <td>$68,400.00</td>\n",
              "      <td>$93,100.00</td>\n",
              "      <td>$184,000.00</td>\n",
              "      <td>$257,000.00</td>\n",
              "    </tr>\n",
              "    <tr>\n",
              "      <th>1</th>\n",
              "      <td>California Institute of Technology (CIT)</td>\n",
              "      <td>California</td>\n",
              "      <td>$75,500.00</td>\n",
              "      <td>$123,000.00</td>\n",
              "      <td>NaN</td>\n",
              "      <td>$104,000.00</td>\n",
              "      <td>$161,000.00</td>\n",
              "      <td>NaN</td>\n",
              "    </tr>\n",
              "    <tr>\n",
              "      <th>2</th>\n",
              "      <td>Harvey Mudd College</td>\n",
              "      <td>California</td>\n",
              "      <td>$71,800.00</td>\n",
              "      <td>$122,000.00</td>\n",
              "      <td>NaN</td>\n",
              "      <td>$96,000.00</td>\n",
              "      <td>$180,000.00</td>\n",
              "      <td>NaN</td>\n",
              "    </tr>\n",
              "    <tr>\n",
              "      <th>3</th>\n",
              "      <td>University of California, Berkeley</td>\n",
              "      <td>California</td>\n",
              "      <td>$59,900.00</td>\n",
              "      <td>$112,000.00</td>\n",
              "      <td>$59,500.00</td>\n",
              "      <td>$81,000.00</td>\n",
              "      <td>$149,000.00</td>\n",
              "      <td>$201,000.00</td>\n",
              "    </tr>\n",
              "    <tr>\n",
              "      <th>4</th>\n",
              "      <td>Occidental College</td>\n",
              "      <td>California</td>\n",
              "      <td>$51,900.00</td>\n",
              "      <td>$105,000.00</td>\n",
              "      <td>NaN</td>\n",
              "      <td>$54,800.00</td>\n",
              "      <td>$157,000.00</td>\n",
              "      <td>NaN</td>\n",
              "    </tr>\n",
              "  </tbody>\n",
              "</table>\n",
              "</div>"
            ],
            "text/plain": [
              "                                School Name      Region  \\\n",
              "0                       Stanford University  California   \n",
              "1  California Institute of Technology (CIT)  California   \n",
              "2                       Harvey Mudd College  California   \n",
              "3        University of California, Berkeley  California   \n",
              "4                        Occidental College  California   \n",
              "\n",
              "  Starting Median Salary Mid-Career Median Salary  \\\n",
              "0             $70,400.00              $129,000.00   \n",
              "1             $75,500.00              $123,000.00   \n",
              "2             $71,800.00              $122,000.00   \n",
              "3             $59,900.00              $112,000.00   \n",
              "4             $51,900.00              $105,000.00   \n",
              "\n",
              "  Mid-Career 10th Percentile Salary Mid-Career 25th Percentile Salary  \\\n",
              "0                        $68,400.00                        $93,100.00   \n",
              "1                               NaN                       $104,000.00   \n",
              "2                               NaN                        $96,000.00   \n",
              "3                        $59,500.00                        $81,000.00   \n",
              "4                               NaN                        $54,800.00   \n",
              "\n",
              "  Mid-Career 75th Percentile Salary Mid-Career 90th Percentile Salary  \n",
              "0                       $184,000.00                       $257,000.00  \n",
              "1                       $161,000.00                               NaN  \n",
              "2                       $180,000.00                               NaN  \n",
              "3                       $149,000.00                       $201,000.00  \n",
              "4                       $157,000.00                               NaN  "
            ]
          },
          "execution_count": 6,
          "metadata": {},
          "output_type": "execute_result"
        }
      ],
      "source": [
        "dfr=pd.read_csv(\"salaries-by-region.csv\")\n",
        "dfr.head(5)\n"
      ]
    },
    {
      "cell_type": "code",
      "execution_count": 7,
      "metadata": {},
      "outputs": [
        {
          "data": {
            "text/html": [
              "<div>\n",
              "<style scoped>\n",
              "    .dataframe tbody tr th:only-of-type {\n",
              "        vertical-align: middle;\n",
              "    }\n",
              "\n",
              "    .dataframe tbody tr th {\n",
              "        vertical-align: top;\n",
              "    }\n",
              "\n",
              "    .dataframe thead th {\n",
              "        text-align: right;\n",
              "    }\n",
              "</style>\n",
              "<table border=\"1\" class=\"dataframe\">\n",
              "  <thead>\n",
              "    <tr style=\"text-align: right;\">\n",
              "      <th></th>\n",
              "      <th>School Name</th>\n",
              "      <th>Region</th>\n",
              "      <th>Starting Median Salary</th>\n",
              "      <th>Mid-Career Median Salary</th>\n",
              "      <th>Mid-Career 10th Percentile Salary</th>\n",
              "      <th>Mid-Career 25th Percentile Salary</th>\n",
              "      <th>Mid-Career 75th Percentile Salary</th>\n",
              "      <th>Mid-Career 90th Percentile Salary</th>\n",
              "    </tr>\n",
              "  </thead>\n",
              "  <tbody>\n",
              "    <tr>\n",
              "      <th>count</th>\n",
              "      <td>320</td>\n",
              "      <td>320</td>\n",
              "      <td>320</td>\n",
              "      <td>320</td>\n",
              "      <td>273</td>\n",
              "      <td>320</td>\n",
              "      <td>320</td>\n",
              "      <td>273</td>\n",
              "    </tr>\n",
              "    <tr>\n",
              "      <th>unique</th>\n",
              "      <td>320</td>\n",
              "      <td>5</td>\n",
              "      <td>168</td>\n",
              "      <td>204</td>\n",
              "      <td>166</td>\n",
              "      <td>217</td>\n",
              "      <td>130</td>\n",
              "      <td>115</td>\n",
              "    </tr>\n",
              "    <tr>\n",
              "      <th>top</th>\n",
              "      <td>Stanford University</td>\n",
              "      <td>Northeastern</td>\n",
              "      <td>$42,600.00</td>\n",
              "      <td>$72,100.00</td>\n",
              "      <td>$43,300.00</td>\n",
              "      <td>$60,700.00</td>\n",
              "      <td>$117,000.00</td>\n",
              "      <td>$150,000.00</td>\n",
              "    </tr>\n",
              "    <tr>\n",
              "      <th>freq</th>\n",
              "      <td>1</td>\n",
              "      <td>100</td>\n",
              "      <td>6</td>\n",
              "      <td>5</td>\n",
              "      <td>5</td>\n",
              "      <td>5</td>\n",
              "      <td>10</td>\n",
              "      <td>10</td>\n",
              "    </tr>\n",
              "  </tbody>\n",
              "</table>\n",
              "</div>"
            ],
            "text/plain": [
              "                School Name        Region Starting Median Salary  \\\n",
              "count                   320           320                    320   \n",
              "unique                  320             5                    168   \n",
              "top     Stanford University  Northeastern             $42,600.00   \n",
              "freq                      1           100                      6   \n",
              "\n",
              "       Mid-Career Median Salary Mid-Career 10th Percentile Salary  \\\n",
              "count                       320                               273   \n",
              "unique                      204                               166   \n",
              "top                  $72,100.00                        $43,300.00   \n",
              "freq                          5                                 5   \n",
              "\n",
              "       Mid-Career 25th Percentile Salary Mid-Career 75th Percentile Salary  \\\n",
              "count                                320                               320   \n",
              "unique                               217                               130   \n",
              "top                           $60,700.00                       $117,000.00   \n",
              "freq                                   5                                10   \n",
              "\n",
              "       Mid-Career 90th Percentile Salary  \n",
              "count                                273  \n",
              "unique                               115  \n",
              "top                          $150,000.00  \n",
              "freq                                  10  "
            ]
          },
          "execution_count": 7,
          "metadata": {},
          "output_type": "execute_result"
        }
      ],
      "source": [
        "dfr.describe()"
      ]
    },
    {
      "cell_type": "code",
      "execution_count": 8,
      "metadata": {},
      "outputs": [
        {
          "data": {
            "image/png": "[encoded data removed]",
            "text/plain": [
              "<Figure size 1080x360 with 1 Axes>"
            ]
          },
          "metadata": {
            "needs_background": "light"
          },
          "output_type": "display_data"
        }
      ],
      "source": [
        "sns.countplot(x = \"Region\", data =dfr)\n",
        "plt.show()"
      ]
    },
    {
      "cell_type": "code",
      "execution_count": 9,
      "metadata": {},
      "outputs": [
        {
          "data": {
            "image/png": "[encoded data removed]",
            "text/plain": [
              "<Figure size 1080x360 with 1 Axes>"
            ]
          },
          "metadata": {
            "needs_background": "light"
          },
          "output_type": "display_data"
        }
      ],
      "source": [
        "#Distribution of Loan Amounts\n",
        "\n",
        "n, bins, patches = plt.hist(x = dfr[\"Region\"], bins =\"auto\", color = \"blue\", alpha = 0.7, rwidth = 0.95)\n",
        "plt.xlabel(\"Region count\")\n",
        "plt.show()"
      ]
    }
  ],
  "metadata": {
    "colab": {
      "provenance": []
    },
    "kernelspec": {
      "display_name": "base",
      "language": "python",
      "name": "python3"
    },
    "language_info": {
      "codemirror_mode": {
        "name": "ipython",
        "version": 3
      },
      "file_extension": ".py",
      "mimetype": "text/x-python",
      "name": "python",
      "nbconvert_exporter": "python",
      "pygments_lexer": "ipython3",
      "version": "3.9.12"
    },
    "vscode": {
      "interpreter": {
        "hash": "ac84c186c3977d3f3331649749bf53276a5c5befb029be0bc359ac378ed9e33b"
      }
    }
  },
  "nbformat": 4,
  "nbformat_minor": 0
}
