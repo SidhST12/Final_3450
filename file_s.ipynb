{
  "cells": [
    {
      "cell_type": "code",
      "execution_count": 17,
      "metadata": {},
      "outputs": [],
      "source": [
        "#import thinkplot\n",
        "#import thinkstats2\n",
        "import pandas as pd\n",
        "import numpy as np\n",
        "import math\n",
        "import scipy.stats as ss\n",
        "import matplotlib.pyplot as plt\n",
        "#import thinkplot \n",
        "#import thinkstats2\n",
        "from sklearn.metrics import mean_squared_error\n",
        "from sklearn.linear_model import LinearRegression\n",
        "from sklearn.model_selection import train_test_split\n",
        "from sklearn.preprocessing import MinMaxScaler\n",
        "from sklearn.preprocessing import PolynomialFeatures\n",
        "from sklearn.pipeline import make_pipeline\n",
        "\n",
        "##Seaborn for fancy plots. \n",
        "import matplotlib.pyplot as plt\n",
        "import seaborn as sns\n",
        "plt.rcParams[\"figure.figsize\"] = (15,5)"
      ]
    },
    {
      "cell_type": "code",
      "execution_count": 18,
      "metadata": {
        "colab": {
          "base_uri": "https://localhost:8080/"
        },
        "id": "MqJtgmw_Dcvr",
        "outputId": "2a1147bb-0ed8-4cd5-af7b-0e9c2f53c13d"
      },
      "outputs": [
        {
          "name": "stdout",
          "output_type": "stream",
          "text": [
            "Good Morning!\n"
          ]
        }
      ],
      "source": [
        "print(\"Good Morning!\")"
      ]
    },
    {
      "cell_type": "code",
      "execution_count": 19,
      "metadata": {},
      "outputs": [
        {
          "data": {
            "text/html": [
              "<div>\n",
              "<style scoped>\n",
              "    .dataframe tbody tr th:only-of-type {\n",
              "        vertical-align: middle;\n",
              "    }\n",
              "\n",
              "    .dataframe tbody tr th {\n",
              "        vertical-align: top;\n",
              "    }\n",
              "\n",
              "    .dataframe thead th {\n",
              "        text-align: right;\n",
              "    }\n",
              "</style>\n",
              "<table border=\"1\" class=\"dataframe\">\n",
              "  <thead>\n",
              "    <tr style=\"text-align: right;\">\n",
              "      <th></th>\n",
              "      <th>Undergraduate Major</th>\n",
              "      <th>Starting Median Salary</th>\n",
              "      <th>Mid-Career Median Salary</th>\n",
              "      <th>Percent change from Starting to Mid-Career Salary</th>\n",
              "      <th>Mid-Career 10th Percentile Salary</th>\n",
              "      <th>Mid-Career 25th Percentile Salary</th>\n",
              "      <th>Mid-Career 75th Percentile Salary</th>\n",
              "      <th>Mid-Career 90th Percentile Salary</th>\n",
              "    </tr>\n",
              "  </thead>\n",
              "  <tbody>\n",
              "    <tr>\n",
              "      <th>0</th>\n",
              "      <td>Accounting</td>\n",
              "      <td>$46,000.00</td>\n",
              "      <td>$77,100.00</td>\n",
              "      <td>67.6</td>\n",
              "      <td>$42,200.00</td>\n",
              "      <td>$56,100.00</td>\n",
              "      <td>$108,000.00</td>\n",
              "      <td>$152,000.00</td>\n",
              "    </tr>\n",
              "    <tr>\n",
              "      <th>1</th>\n",
              "      <td>Aerospace Engineering</td>\n",
              "      <td>$57,700.00</td>\n",
              "      <td>$101,000.00</td>\n",
              "      <td>75.0</td>\n",
              "      <td>$64,300.00</td>\n",
              "      <td>$82,100.00</td>\n",
              "      <td>$127,000.00</td>\n",
              "      <td>$161,000.00</td>\n",
              "    </tr>\n",
              "    <tr>\n",
              "      <th>2</th>\n",
              "      <td>Agriculture</td>\n",
              "      <td>$42,600.00</td>\n",
              "      <td>$71,900.00</td>\n",
              "      <td>68.8</td>\n",
              "      <td>$36,300.00</td>\n",
              "      <td>$52,100.00</td>\n",
              "      <td>$96,300.00</td>\n",
              "      <td>$150,000.00</td>\n",
              "    </tr>\n",
              "    <tr>\n",
              "      <th>3</th>\n",
              "      <td>Anthropology</td>\n",
              "      <td>$36,800.00</td>\n",
              "      <td>$61,500.00</td>\n",
              "      <td>67.1</td>\n",
              "      <td>$33,800.00</td>\n",
              "      <td>$45,500.00</td>\n",
              "      <td>$89,300.00</td>\n",
              "      <td>$138,000.00</td>\n",
              "    </tr>\n",
              "    <tr>\n",
              "      <th>4</th>\n",
              "      <td>Architecture</td>\n",
              "      <td>$41,600.00</td>\n",
              "      <td>$76,800.00</td>\n",
              "      <td>84.6</td>\n",
              "      <td>$50,600.00</td>\n",
              "      <td>$62,200.00</td>\n",
              "      <td>$97,000.00</td>\n",
              "      <td>$136,000.00</td>\n",
              "    </tr>\n",
              "  </tbody>\n",
              "</table>\n",
              "</div>"
            ],
            "text/plain": [
              "     Undergraduate Major Starting Median Salary Mid-Career Median Salary  \\\n",
              "0             Accounting             $46,000.00               $77,100.00   \n",
              "1  Aerospace Engineering             $57,700.00              $101,000.00   \n",
              "2            Agriculture             $42,600.00               $71,900.00   \n",
              "3           Anthropology             $36,800.00               $61,500.00   \n",
              "4           Architecture             $41,600.00               $76,800.00   \n",
              "\n",
              "   Percent change from Starting to Mid-Career Salary  \\\n",
              "0                                               67.6   \n",
              "1                                               75.0   \n",
              "2                                               68.8   \n",
              "3                                               67.1   \n",
              "4                                               84.6   \n",
              "\n",
              "  Mid-Career 10th Percentile Salary Mid-Career 25th Percentile Salary  \\\n",
              "0                        $42,200.00                        $56,100.00   \n",
              "1                        $64,300.00                        $82,100.00   \n",
              "2                        $36,300.00                        $52,100.00   \n",
              "3                        $33,800.00                        $45,500.00   \n",
              "4                        $50,600.00                        $62,200.00   \n",
              "\n",
              "  Mid-Career 75th Percentile Salary Mid-Career 90th Percentile Salary  \n",
              "0                       $108,000.00                       $152,000.00  \n",
              "1                       $127,000.00                       $161,000.00  \n",
              "2                        $96,300.00                       $150,000.00  \n",
              "3                        $89,300.00                       $138,000.00  \n",
              "4                        $97,000.00                       $136,000.00  "
            ]
          },
          "execution_count": 19,
          "metadata": {},
          "output_type": "execute_result"
        }
      ],
      "source": [
        "dfd = pd.read_csv(\"degrees-that-pay-back.csv\")\n",
        "dfd.head()"
      ]
    },
    {
      "cell_type": "code",
      "execution_count": 21,
      "metadata": {},
      "outputs": [],
      "source": [
        "df1=dfd[[\"Undergraduate Major\",\"Starting Median Salary\"]]"
      ]
    },
    {
      "cell_type": "code",
      "execution_count": null,
      "metadata": {},
      "outputs": [
        {
          "data": {
            "text/html": [
              "<div>\n",
              "<style scoped>\n",
              "    .dataframe tbody tr th:only-of-type {\n",
              "        vertical-align: middle;\n",
              "    }\n",
              "\n",
              "    .dataframe tbody tr th {\n",
              "        vertical-align: top;\n",
              "    }\n",
              "\n",
              "    .dataframe thead th {\n",
              "        text-align: right;\n",
              "    }\n",
              "</style>\n",
              "<table border=\"1\" class=\"dataframe\">\n",
              "  <thead>\n",
              "    <tr style=\"text-align: right;\">\n",
              "      <th></th>\n",
              "      <th>School Name</th>\n",
              "      <th>School Type</th>\n",
              "      <th>Starting Median Salary</th>\n",
              "      <th>Mid-Career Median Salary</th>\n",
              "      <th>Mid-Career 10th Percentile Salary</th>\n",
              "      <th>Mid-Career 25th Percentile Salary</th>\n",
              "      <th>Mid-Career 75th Percentile Salary</th>\n",
              "      <th>Mid-Career 90th Percentile Salary</th>\n",
              "    </tr>\n",
              "  </thead>\n",
              "  <tbody>\n",
              "    <tr>\n",
              "      <th>0</th>\n",
              "      <td>Massachusetts Institute of Technology (MIT)</td>\n",
              "      <td>Engineering</td>\n",
              "      <td>$72,200.00</td>\n",
              "      <td>$126,000.00</td>\n",
              "      <td>$76,800.00</td>\n",
              "      <td>$99,200.00</td>\n",
              "      <td>$168,000.00</td>\n",
              "      <td>$220,000.00</td>\n",
              "    </tr>\n",
              "    <tr>\n",
              "      <th>1</th>\n",
              "      <td>California Institute of Technology (CIT)</td>\n",
              "      <td>Engineering</td>\n",
              "      <td>$75,500.00</td>\n",
              "      <td>$123,000.00</td>\n",
              "      <td>NaN</td>\n",
              "      <td>$104,000.00</td>\n",
              "      <td>$161,000.00</td>\n",
              "      <td>NaN</td>\n",
              "    </tr>\n",
              "  </tbody>\n",
              "</table>\n",
              "</div>"
            ],
            "text/plain": [
              "                                   School Name  School Type  \\\n",
              "0  Massachusetts Institute of Technology (MIT)  Engineering   \n",
              "1     California Institute of Technology (CIT)  Engineering   \n",
              "\n",
              "  Starting Median Salary Mid-Career Median Salary  \\\n",
              "0             $72,200.00              $126,000.00   \n",
              "1             $75,500.00              $123,000.00   \n",
              "\n",
              "  Mid-Career 10th Percentile Salary Mid-Career 25th Percentile Salary  \\\n",
              "0                        $76,800.00                        $99,200.00   \n",
              "1                               NaN                       $104,000.00   \n",
              "\n",
              "  Mid-Career 75th Percentile Salary Mid-Career 90th Percentile Salary  \n",
              "0                       $168,000.00                       $220,000.00  \n",
              "1                       $161,000.00                               NaN  "
            ]
          },
          "execution_count": 14,
          "metadata": {},
          "output_type": "execute_result"
        }
      ],
      "source": [
        "dfc=pd.read_csv(\"salaries-by-college-type.csv\")\n",
        "dfc.head(2)"
      ]
    },
    {
      "cell_type": "code",
      "execution_count": null,
      "metadata": {},
      "outputs": [
        {
          "data": {
            "text/html": [
              "<div>\n",
              "<style scoped>\n",
              "    .dataframe tbody tr th:only-of-type {\n",
              "        vertical-align: middle;\n",
              "    }\n",
              "\n",
              "    .dataframe tbody tr th {\n",
              "        vertical-align: top;\n",
              "    }\n",
              "\n",
              "    .dataframe thead th {\n",
              "        text-align: right;\n",
              "    }\n",
              "</style>\n",
              "<table border=\"1\" class=\"dataframe\">\n",
              "  <thead>\n",
              "    <tr style=\"text-align: right;\">\n",
              "      <th></th>\n",
              "      <th>School Name</th>\n",
              "      <th>Region</th>\n",
              "      <th>Starting Median Salary</th>\n",
              "      <th>Mid-Career Median Salary</th>\n",
              "      <th>Mid-Career 10th Percentile Salary</th>\n",
              "      <th>Mid-Career 25th Percentile Salary</th>\n",
              "      <th>Mid-Career 75th Percentile Salary</th>\n",
              "      <th>Mid-Career 90th Percentile Salary</th>\n",
              "    </tr>\n",
              "  </thead>\n",
              "  <tbody>\n",
              "    <tr>\n",
              "      <th>0</th>\n",
              "      <td>Stanford University</td>\n",
              "      <td>California</td>\n",
              "      <td>$70,400.00</td>\n",
              "      <td>$129,000.00</td>\n",
              "      <td>$68,400.00</td>\n",
              "      <td>$93,100.00</td>\n",
              "      <td>$184,000.00</td>\n",
              "      <td>$257,000.00</td>\n",
              "    </tr>\n",
              "    <tr>\n",
              "      <th>1</th>\n",
              "      <td>California Institute of Technology (CIT)</td>\n",
              "      <td>California</td>\n",
              "      <td>$75,500.00</td>\n",
              "      <td>$123,000.00</td>\n",
              "      <td>NaN</td>\n",
              "      <td>$104,000.00</td>\n",
              "      <td>$161,000.00</td>\n",
              "      <td>NaN</td>\n",
              "    </tr>\n",
              "  </tbody>\n",
              "</table>\n",
              "</div>"
            ],
            "text/plain": [
              "                                School Name      Region  \\\n",
              "0                       Stanford University  California   \n",
              "1  California Institute of Technology (CIT)  California   \n",
              "\n",
              "  Starting Median Salary Mid-Career Median Salary  \\\n",
              "0             $70,400.00              $129,000.00   \n",
              "1             $75,500.00              $123,000.00   \n",
              "\n",
              "  Mid-Career 10th Percentile Salary Mid-Career 25th Percentile Salary  \\\n",
              "0                        $68,400.00                        $93,100.00   \n",
              "1                               NaN                       $104,000.00   \n",
              "\n",
              "  Mid-Career 75th Percentile Salary Mid-Career 90th Percentile Salary  \n",
              "0                       $184,000.00                       $257,000.00  \n",
              "1                       $161,000.00                               NaN  "
            ]
          },
          "execution_count": 15,
          "metadata": {},
          "output_type": "execute_result"
        }
      ],
      "source": [
        "dfr=pd.read_csv(\"salaries-by-region.csv\")\n",
        "dfr.head(2)"
      ]
    }
  ],
  "metadata": {
    "colab": {
      "provenance": []
    },
    "kernelspec": {
      "display_name": "base",
      "language": "python",
      "name": "python3"
    },
    "language_info": {
      "codemirror_mode": {
        "name": "ipython",
        "version": 3
      },
      "file_extension": ".py",
      "mimetype": "text/x-python",
      "name": "python",
      "nbconvert_exporter": "python",
      "pygments_lexer": "ipython3",
      "version": "3.9.12"
    },
    "vscode": {
      "interpreter": {
        "hash": "ac84c186c3977d3f3331649749bf53276a5c5befb029be0bc359ac378ed9e33b"
      }
    }
  },
  "nbformat": 4,
  "nbformat_minor": 0
}
